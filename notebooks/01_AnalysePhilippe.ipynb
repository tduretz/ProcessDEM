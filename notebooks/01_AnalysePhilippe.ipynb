{
 "cells": [
  {
   "cell_type": "code",
   "execution_count": null,
   "metadata": {},
   "outputs": [],
   "source": [
    "# Load libraries\n",
    "using Plots, Rasters, ArchGDAL \n",
    "using WhereTheWaterFlows, ImageComponentAnalysis\n",
    "const WWF = WhereTheWaterFlows # this is how module aliasing is done in Julia"
   ]
  },
  {
   "cell_type": "code",
   "execution_count": null,
   "metadata": {},
   "outputs": [],
   "source": [
    "function PreProcessTopo( DEM )\n",
    "    h    = Float32.(DEM.data[:,:,1])::Matrix{Float32}\n",
    "    h   .= h[:,end:-1:1]\n",
    "    h[h.==DEM.missingval] .= NaN\n",
    "    return h\n",
    "end\n",
    "\n",
    "function PreProcessCoords( DEM_array )\n",
    "    x     = Array(DEM_array)\n",
    "    x   .-= x[1]        \n",
    "    x   .*= 111e3\n",
    "end"
   ]
  },
  {
   "cell_type": "markdown",
   "metadata": {},
   "source": [
    "#### Step 0: Read the data"
   ]
  },
  {
   "cell_type": "code",
   "execution_count": null,
   "metadata": {},
   "outputs": [],
   "source": [
    "DEM              = Raster(\"../data/MontBlanc.tif\")"
   ]
  },
  {
   "cell_type": "code",
   "execution_count": null,
   "metadata": {},
   "outputs": [],
   "source": [
    "h     = PreProcessTopo( DEM )                     # read h and \n",
    "x     = PreProcessCoords( DEM.dims[1] )           # read x\n",
    "y     = PreProcessCoords( DEM.dims[2] )[end:-1:1] # read y and reverse it\n",
    "h_rev = .-copy(h);                                # flip the topography"
   ]
  },
  {
   "cell_type": "markdown",
   "metadata": {},
   "source": [
    "#### Step 1: Plot the data"
   ]
  },
  {
   "cell_type": "code",
   "execution_count": null,
   "metadata": {},
   "outputs": [],
   "source": [
    "p = heatmap(x./1e3, y./1e3, h', color=:terrain, aspect_ratio=1, \n",
    "xlabel=\"x [km]\", ylabel=\"y [km]\", title=\"DEM nearby Mt Blanc - Altitude [m]\")"
   ]
  },
  {
   "cell_type": "code",
   "execution_count": null,
   "metadata": {},
   "outputs": [],
   "source": [
    "p = heatmap(x./1e3, y./1e3, h_rev', color=:terrain, aspect_ratio=1, \n",
    "xlabel=\"x [km]\", ylabel=\"y [km]\", title=\"Reversed DEM - Altitude [m]\")"
   ]
  },
  {
   "cell_type": "markdown",
   "metadata": {},
   "source": [
    "#### Step 2: Let's fill the sinks using WhereTheWaterFlows"
   ]
  },
  {
   "cell_type": "code",
   "execution_count": null,
   "metadata": {},
   "outputs": [],
   "source": [
    "wf = waterflows(h)                                                    # Once on h                  \n",
    "area1, slen1, dir1, nout1, nin1, pits1, c1, bnds1 = waterflows(h_rev) # Once on h_rev\n",
    "h_rev_filled = fill_dem(h_rev, pits1, dir1);                          # Fill the reversed topo\n",
    "\n",
    "p = heatmap(x./1e3, y./1e3, h_rev_filled', color=:terrain, aspect_ratio=1, \n",
    "xlabel=\"x [km]\", ylabel=\"y [km]\", title=\"Filled reversed DEM - Altitude [m]\")"
   ]
  },
  {
   "cell_type": "markdown",
   "metadata": {},
   "source": [
    "#### Step 3: Difference between the filled reversed DEM and the reversed DEM"
   ]
  },
  {
   "cell_type": "code",
   "execution_count": null,
   "metadata": {},
   "outputs": [],
   "source": [
    "summits = h_rev_filled .- h_rev;\n",
    "\n",
    "p = heatmap(x./1e3, y./1e3, summits', color=:terrain, aspect_ratio=1, \n",
    "xlabel=\"x [km]\", ylabel=\"y [km]\", title=\"Summits - Altitude [m]\")"
   ]
  },
  {
   "cell_type": "markdown",
   "metadata": {},
   "source": [
    "#### Step 4: Mask the summits"
   ]
  },
  {
   "cell_type": "code",
   "execution_count": null,
   "metadata": {},
   "outputs": [],
   "source": [
    "ϵ = 50.0\n",
    "mask_summits = summits .> ϵ # filter noise au passage\n",
    "\n",
    "p = heatmap(x./1e3, y./1e3, mask_summits', color=:lajolla, aspect_ratio=1, \n",
    "xlabel=\"x [km]\", ylabel=\"y [km]\", title=\"Summits - Altitude [m]\")"
   ]
  },
  {
   "cell_type": "markdown",
   "metadata": {},
   "source": [
    "#### Step 5: Label components using ImageComponentAnalysis"
   ]
  },
  {
   "cell_type": "code",
   "execution_count": null,
   "metadata": {},
   "outputs": [],
   "source": [
    "components = label_components(mask_summits)\n",
    "\n",
    "p = heatmap(x./1e3, y./1e3, components', color=:turbo, aspect_ratio=1, \n",
    "xlabel=\"x [km]\", ylabel=\"y [km]\", title=\"Summits - Components (n = $(maximum(components)) with ϵ = $(ϵ) m)\")"
   ]
  },
  {
   "cell_type": "code",
   "execution_count": null,
   "metadata": {},
   "outputs": [],
   "source": []
  }
 ],
 "metadata": {
  "kernelspec": {
   "display_name": "Julia 1.9.0",
   "language": "julia",
   "name": "julia-1.9"
  },
  "language_info": {
   "file_extension": ".jl",
   "mimetype": "application/julia",
   "name": "julia",
   "version": "1.9.0"
  }
 },
 "nbformat": 4,
 "nbformat_minor": 2
}
